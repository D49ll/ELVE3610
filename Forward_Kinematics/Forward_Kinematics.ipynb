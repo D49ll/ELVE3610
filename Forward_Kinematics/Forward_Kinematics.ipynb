{
 "cells": [
  {
   "cell_type": "code",
   "execution_count": 25,
   "metadata": {},
   "outputs": [],
   "source": [
    "import numpy as np\n",
    "\n",
    "def rotx(theta):\n",
    "    \"\"\" \n",
    "    3D rotation matrix along x axis \n",
    "    \"\"\"\n",
    "    return np.array([[1,0,0],\n",
    "                     [0,np.cos(theta),-np.sin(theta)],\n",
    "                     [0,np.sin(theta),np.cos(theta)]])\n",
    "def roty(theta):\n",
    "    \"\"\" \n",
    "    3D rotation matrix along y axis \n",
    "    theta is angle in radians\n",
    "    \"\"\"\n",
    "    return np.array([[np.cos(theta),0,np.sin(theta)],\n",
    "                     [0,1,0],\n",
    "                     [-np.sin(theta),0, np.cos(theta)]])    \n",
    "def rotz(theta):\n",
    "    \"\"\" \n",
    "    3D rotation matrix along z axis\n",
    "    theta is angle in radians\n",
    "    \"\"\"\n",
    "    return np.array([[np.cos(theta),-np.sin(theta),0],\n",
    "                     [np.sin(theta),np.cos(theta),0],\n",
    "                     [0,0,1]])\n",
    "def tpr(R):\n",
    "    \"\"\" \n",
    "    This function returns a homogeneous pure rotation matrix \n",
    "    \"\"\"\n",
    "    n = R.shape[0] # finds shape of first column, either 2 or 3.\n",
    "    \n",
    "    if n == 2:\n",
    "        # Creates a identity matrix of 3 dimensions\n",
    "        T = np.eye(3)\n",
    "        # Append the identity matrix rows and columns with R input\n",
    "        T[0:2,0:2] = R\n",
    "    elif n == 3:\n",
    "        # Creates a identity matrix of 4 dimensions\n",
    "        T = np.eye(4)\n",
    "        # Append the identity matrix rows and columns with R input\n",
    "        T[0:3,0:3] = R\n",
    "    else:\n",
    "        print(\"Invalid rotation matrix. Please check that dimensions are correct\")\n",
    "    return T\n",
    "\n",
    "def ttrans(v):\n",
    "    n = v.shape[0]\n",
    "    \n",
    "    # 2D pure translation\n",
    "    if n == 2:\n",
    "        T = np.eye(3)\n",
    "        T[0:2,3] = v\n",
    "    # 3D pure translation\n",
    "    else:\n",
    "        T = np.eye(4)\n",
    "        T[0:3,3] = v\n",
    "    return T\n",
    "\n",
    "def forward_kinematics_endeffector(theta, d, a, alpha):\n",
    "    \"\"\"\n",
    "    This function returns the end effector pose in reference to base frame.\n",
    "    \n",
    "    Where each link is calculated as:    \n",
    "        A[i] = Rot_z(theta_i) * Trans_z(d_i) * Trans_x(a_i) * Rot_x(alpha_i)\n",
    "    \n",
    "    And the pose of end effector in reference to base frame computed as:\n",
    "                    E = OT3 = A[1]*A[2],...,A[i=n]\n",
    "    \"\"\"\n",
    "    n = theta.shape[0] # Find number of links\n",
    "    A = np.zeros((n,4,4)) # Creates n empty 4x4 arrays depending on number of links\n",
    "    \n",
    "    # Calculates pose from {0} to {n}, n being end effector.\n",
    "    for i in range(n):\n",
    "        Rotz = tpr(rotz(theta[i]))\n",
    "        Tz = ttrans(np.array( [0, 0, d[i]] ))\n",
    "        Tx = ttrans(np.array( [a[i], 0, 0] ))\n",
    "        Rotx = tpr(rotx(alpha[i]))\n",
    "        A[i] = Rotz.dot(Tz).dot(Tx).dot(Rotx)\n",
    "        #print(\"A[{}]=\\n\".format(i+1),A[i].round(5),\"\\n\")\n",
    "    \n",
    "    # Define empty n-1 4x4 arrays to calculate dot product\n",
    "    # Example a 6DOF robot arm will create 5 empty arrays\n",
    "    temp = A[0].dot(A[1])\n",
    "    for i in range(1, n-1):\n",
    "        temp = temp.dot(A[i+1])  \n",
    "    E = temp\n",
    "\n",
    "    return E\n",
    "\n",
    "def forward_kinematics_UR3(q):\n",
    "    \"\"\"\n",
    "    This function will find the end effector pose in reference to base frame for \n",
    "    the 6DOF UR3 robot arm. The end effector pose depends on DH-parameters. \n",
    "    \"\"\"\n",
    "    # DH parameters for UR3 robot arm\n",
    "    theta = np.array([np.pi/2+q[0], np.pi/2+q[1], q[2], np.pi/2+q[3], q[4],q[5]])\n",
    "    d = np.array([0.0892, 0, 0, -0.1093, -0.09475, -0.0825])\n",
    "    a = np.array([0, 0.425, 0.392, 0, 0, 0])\n",
    "    alpha = np.array([np.pi/2, 0, np.pi, -np.pi/2, np.pi/2, 0])\n",
    "    E = forward_kinematics_endeffector(theta, d, a, alpha)\n",
    "    \n",
    "    return E.round(5) \n",
    "\n",
    "def forward_kinematics_davinci(q):\n",
    "    \"\"\"\n",
    "    This function will find the end effector pose in reference to base frame for \n",
    "    the 6DOF Davinci robot arm. The end effector pose depends on DH-parameters. \n",
    "    \"\"\"\n",
    "    # DH parameters for Davinci robot arm\n",
    "    theta = np.array([q[0], np.pi/2+q[1], np.pi/2+q[2], q[3],  np.pi/2+q[4],-np.pi/2+q[5]])\n",
    "    d = np.array([0, 0.45, 0, 0, 0.02, 0.40])\n",
    "    a = np.array([0.12, 0, 0.3, -0.25, 0, 0])\n",
    "    alpha = np.array([0, np.pi/2, np.pi, 0, np.pi/2, 0])\n",
    "    E = forward_kinematics_endeffector(theta, d, a, alpha)\n",
    "    \n",
    "    return E.round(5)\n",
    "\n",
    "def forward_kinematics_kinova(q):\n",
    "    \"\"\"\n",
    "    This function will find the end effector pose in reference to base frame for \n",
    "    the 4DOF Kinova robot arm. The end effector pose depends on DH-parameters. \n",
    "    \"\"\"\n",
    "    # DH parameters for Kinova robot arm\n",
    "    theta = np.array([np.pi/2+q[0], np.pi/2+q[1], -np.pi/2+q[2], -np.pi/2+q[3]])\n",
    "    d = np.array([0.2755, 0, -0.0098, 0.3073])\n",
    "    a = np.array([0, 0.410, 0, 0])\n",
    "    alpha = np.array([np.pi/2, 0, -np.pi/2, 0])\n",
    "    \n",
    "    E = forward_kinematics_endeffector(theta, d, a, alpha)\n",
    "       \n",
    "    return E.round(5)"
   ]
  },
  {
   "cell_type": "code",
   "execution_count": 21,
   "metadata": {},
   "outputs": [
    {
     "name": "stdout",
     "output_type": "stream",
     "text": [
      "[[ 1.      0.     -0.     -0.0098]\n",
      " [ 0.      1.      0.      0.    ]\n",
      " [-0.      0.      1.      0.9928]\n",
      " [ 0.      0.      0.      1.    ]]\n"
     ]
    }
   ],
   "source": [
    "# Kinova home position\n",
    "q1 = 0\n",
    "q2 = 0\n",
    "q3 = 0\n",
    "q4 = 0\n",
    "q = np.array([q1,q2,q3,q4])\n",
    "\n",
    "print(forward_kinematics_kinova(q))"
   ]
  },
  {
   "cell_type": "code",
   "execution_count": 22,
   "metadata": {},
   "outputs": [
    {
     "name": "stdout",
     "output_type": "stream",
     "text": [
      "[[ 0.     -0.      1.      0.3073]\n",
      " [ 1.     -0.     -0.     -0.0098]\n",
      " [ 0.      1.      0.      0.6855]\n",
      " [ 0.      0.      0.      1.    ]]\n"
     ]
    }
   ],
   "source": [
    "# Exercise 1f\n",
    "q1 = np.pi/2\n",
    "q2 = 0\n",
    "q3 = np.pi/2\n",
    "q4 = 0\n",
    "q = np.array([q1,q2,q3,q4])\n",
    "\n",
    "print(forward_kinematics_kinova(q))"
   ]
  },
  {
   "cell_type": "code",
   "execution_count": 24,
   "metadata": {},
   "outputs": [
    {
     "name": "stdout",
     "output_type": "stream",
     "text": [
      "[[-0.      -1.       0.       0.28991]\n",
      " [-1.       0.       0.      -0.0098 ]\n",
      " [-0.      -0.      -1.      -0.32171]\n",
      " [ 0.       0.       0.       1.     ]]\n"
     ]
    }
   ],
   "source": [
    "# Exercise 1g\n",
    "q1 = np.pi/2\n",
    "q2 = (3*np.pi)/4\n",
    "q3 = np.pi/4\n",
    "q4 = np.pi\n",
    "q = np.array([q1,q2,q3,q4])\n",
    "\n",
    "print(forward_kinematics_kinova(q))"
   ]
  },
  {
   "cell_type": "code",
   "execution_count": 17,
   "metadata": {},
   "outputs": [
    {
     "name": "stdout",
     "output_type": "stream",
     "text": [
      "[[ 1.   0.  -0.   0.1]\n",
      " [-0.   1.   0.   0. ]\n",
      " [ 0.   0.   1.   0.9]\n",
      " [ 0.   0.   0.   1. ]]\n"
     ]
    }
   ],
   "source": [
    "# Davinci Home position\n",
    "q1 = 0\n",
    "q2 = 0\n",
    "q3 = 0\n",
    "q4 = 0\n",
    "q5 = 0\n",
    "q6 = 0\n",
    "q = np.array([q1,q2,q3,q4,q5,q6])\n",
    "\n",
    "print(forward_kinematics_davinci(q))"
   ]
  },
  {
   "cell_type": "code",
   "execution_count": 10,
   "metadata": {},
   "outputs": [
    {
     "name": "stdout",
     "output_type": "stream",
     "text": [
      "[[ 0.      -0.      -1.      -0.22322]\n",
      " [ 1.      -0.       0.       0.1    ]\n",
      " [ 0.      -1.       0.       0.57322]\n",
      " [ 0.       0.       0.       1.     ]]\n"
     ]
    }
   ],
   "source": [
    "# Exercise 2f\n",
    "q1 = np.pi/2\n",
    "q2 = 0\n",
    "q3 = 0\n",
    "q4 = np.pi/4\n",
    "q5 = np.pi/4\n",
    "q6 = 0\n",
    "q = np.array([q1,q2,q3,q4,q5,q6])\n",
    "\n",
    "print(forward_kinematics_davinci(q))"
   ]
  },
  {
   "cell_type": "code",
   "execution_count": 11,
   "metadata": {},
   "outputs": [
    {
     "name": "stdout",
     "output_type": "stream",
     "text": [
      "[[-0.15643  0.98769  0.       0.04036]\n",
      " [-0.98769 -0.15643 -0.       0.1246 ]\n",
      " [-0.      -0.       1.       0.88536]\n",
      " [ 0.       0.       0.       1.     ]]\n"
     ]
    }
   ],
   "source": [
    "# Exercise 2g\n",
    "q1 = np.pi/2\n",
    "q2 = np.pi/5\n",
    "q3 = np.pi/4\n",
    "q4 = 0\n",
    "q5 = np.pi/4\n",
    "q6 = (3*np.pi)/4\n",
    "q = np.array([q1,q2,q3,q4,q5,q6])\n",
    "\n",
    "print(forward_kinematics_davinci(q))"
   ]
  },
  {
   "cell_type": "code",
   "execution_count": 8,
   "metadata": {},
   "outputs": [
    {
     "name": "stdout",
     "output_type": "stream",
     "text": [
      "[[ 0.       0.      -1.       0.1918 ]\n",
      " [ 1.       0.       0.       0.     ]\n",
      " [ 0.      -1.      -0.       1.00095]\n",
      " [ 0.       0.       0.       1.     ]]\n"
     ]
    }
   ],
   "source": [
    "# UR3 Home position\n",
    "q = np.zeros(6)\n",
    "\n",
    "print(forward_kinematics_UR3(q))"
   ]
  },
  {
   "cell_type": "code",
   "execution_count": 9,
   "metadata": {},
   "outputs": [
    {
     "name": "stdout",
     "output_type": "stream",
     "text": [
      "[[-0.5      0.70711 -0.5     -0.02575]\n",
      " [ 0.70711 -0.      -0.70711  0.16764]\n",
      " [-0.5     -0.70711 -0.5      1.01445]\n",
      " [ 0.       0.       0.       1.     ]]\n"
     ]
    }
   ],
   "source": [
    "# Exercise 3f\n",
    "q1 = np.pi/2\n",
    "q2 = 0\n",
    "q3 = 0\n",
    "q4 = np.pi/4\n",
    "q5 = np.pi/4\n",
    "q6 = 0\n",
    "q = np.array([q1,q2,q3,q4,q5,q6])\n",
    "\n",
    "print(forward_kinematics_UR3(q))"
   ]
  },
  {
   "cell_type": "code",
   "execution_count": 10,
   "metadata": {},
   "outputs": [
    {
     "name": "stdout",
     "output_type": "stream",
     "text": [
      "[[-0.62018  0.77662 -0.11062  0.73969]\n",
      " [-0.5     -0.5     -0.70711  0.16764]\n",
      " [-0.60446 -0.38323  0.6984   0.45156]\n",
      " [ 0.       0.       0.       1.     ]]\n"
     ]
    }
   ],
   "source": [
    "# Exercise 3g\n",
    "q1 = np.pi/2\n",
    "q2 = np.pi/5\n",
    "q3 = np.pi/4\n",
    "q4 = 0\n",
    "q5 = np.pi/4\n",
    "q6 = (3*np.pi)/4\n",
    "q = np.array([q1,q2,q3,q4,q5,q6])\n",
    "\n",
    "\n",
    "print(forward_kinematics_UR3(q))"
   ]
  }
 ],
 "metadata": {
  "kernelspec": {
   "display_name": "Python 3",
   "language": "python",
   "name": "python3"
  },
  "language_info": {
   "codemirror_mode": {
    "name": "ipython",
    "version": 3
   },
   "file_extension": ".py",
   "mimetype": "text/x-python",
   "name": "python",
   "nbconvert_exporter": "python",
   "pygments_lexer": "ipython3",
   "version": "3.8.5"
  }
 },
 "nbformat": 4,
 "nbformat_minor": 4
}
