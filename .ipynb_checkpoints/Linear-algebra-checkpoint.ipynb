{
 "cells": [
  {
   "cell_type": "markdown",
   "metadata": {},
   "source": [
    "### Exercise 11\n",
    "#### Use Python to solve the following linear system of equations and determine the values of 𝑎, 𝑏, 𝑐:\n",
    "\n",
    "$2𝑎 + 𝑏 − 2𝑐 = 1\\\\\n",
    "𝑎 + 4.5𝑏 + 5𝑐 = 4\\\\\n",
    "−2𝑎 + 3𝑏 − 8𝑐 = −1$\n",
    "\n",
    "Hint: Write the system in matrix form and use matrix inverse function “np.linalg.inv()”. \n",
    "\n",
    "If the inverse matrix exists we can solve it with the following equation:\n",
    "$\\vec{x} = A^{-1} \\cdot \\vec{b}$\n",
    "We must therefore write the system as $A\\vec{x}=\\vec{b}$"
   ]
  },
  {
   "cell_type": "code",
   "execution_count": 21,
   "metadata": {},
   "outputs": [
    {
     "name": "stdout",
     "output_type": "stream",
     "text": [
      "a = [0.4453125]\n",
      "b = [0.546875]\n",
      "c = [0.21875]\n"
     ]
    }
   ],
   "source": [
    "import numpy as np\n",
    "\n",
    "A = np.array([[2,1,-2],\n",
    "              [1,4.5,5],\n",
    "              [-2,3,-8]])\n",
    "b = np.array([[1],\n",
    "              [4],\n",
    "              [-1]])\n",
    "\n",
    "# Find the inverse matrix of A\n",
    "Ainv = np.linalg.inv(A)\n",
    "\n",
    "# Solve the equation and find a, b and c. Since this is vector and not scalar we use .dot\n",
    "x = Ainv.dot(b)\n",
    "\n",
    "L = [\"a\",\"b\",\"c\"] # list for printing\n",
    "n = len(L)\n",
    "\n",
    "for i in range (n):\n",
    "    print(L[i],\"=\",x[i])\n",
    "    "
   ]
  },
  {
   "cell_type": "markdown",
   "metadata": {},
   "source": [
    "### Exercise 12\n",
    "#### Use Python to solve the following linear system of equations and determine the values x:\n",
    "\n",
    "𝐴𝑥 = 𝑦\n",
    "\n",
    "$A= \n",
    "\\begin{bmatrix}\n",
    "1 & 2 & 6.5 & -2\\\\\n",
    "0 & 2.3 & 3 & 0\\\\\n",
    "3.2 & 0 & 3.5 & 7\\\\\n",
    "-2 & 2 & 1.25 & 9\n",
    "\\end{bmatrix}\n",
    "y = \\begin{bmatrix}\n",
    "0\\\\\n",
    "-2\\\\\n",
    "1\\\\\n",
    "4\n",
    "\\end{bmatrix}\n",
    "$\n",
    "\n",
    "If the inverse matrix exists we can solve it with the following equation:\n",
    "$\\vec{x} = A^{-1} \\cdot \\vec{b}$\n",
    "We must therefore write the system as $A\\vec{x}=\\vec{b}$\n"
   ]
  },
  {
   "cell_type": "code",
   "execution_count": 25,
   "metadata": {},
   "outputs": [
    {
     "data": {
      "text/plain": [
       "array([[-1.80005649],\n",
       "       [-2.32840979],\n",
       "       [ 1.11844751],\n",
       "       [ 0.40651636]])"
      ]
     },
     "execution_count": 25,
     "metadata": {},
     "output_type": "execute_result"
    }
   ],
   "source": [
    "A = np.array([[1, 2, 6.5, -2],\n",
    "              [0, 2.3, 3, 0],\n",
    "              [3.2, 0, 3.5, 7],\n",
    "              [-2, 2, 1.25, 9]])\n",
    "y = np.array([[0],\n",
    "              [-2],\n",
    "              [1],\n",
    "              [4]])\n",
    "x = np.linalg.inv(A).dot(y)\n",
    "x"
   ]
  }
 ],
 "metadata": {
  "kernelspec": {
   "display_name": "Python 3",
   "language": "python",
   "name": "python3"
  },
  "language_info": {
   "codemirror_mode": {
    "name": "ipython",
    "version": 3
   },
   "file_extension": ".py",
   "mimetype": "text/x-python",
   "name": "python",
   "nbconvert_exporter": "python",
   "pygments_lexer": "ipython3",
   "version": "3.8.5"
  }
 },
 "nbformat": 4,
 "nbformat_minor": 4
}
