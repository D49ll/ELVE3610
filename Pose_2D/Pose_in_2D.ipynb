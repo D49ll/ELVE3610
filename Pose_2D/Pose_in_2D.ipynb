{
 "cells": [
  {
   "cell_type": "markdown",
   "metadata": {},
   "source": [
    "# Representing pose in 2D\n",
    "## Daniel Stangeland"
   ]
  },
  {
   "cell_type": "code",
   "execution_count": 2,
   "metadata": {
    "jupyter": {
     "source_hidden": true
    }
   },
   "outputs": [],
   "source": [
    "# %load robotteknikk.py\n",
    "#!/usr/bin/env python3\n",
    "\"\"\"\n",
    "Created on Sun Aug 26 20:07:07 2018\n",
    "\n",
    "@author: alexalcocer\n",
    "\"\"\"\n",
    "import numpy as np\n",
    "import matplotlib.pyplot as plt\n",
    "from scipy.linalg import expm\n",
    "from mpl_toolkits import mplot3d\n",
    "from mpl_toolkits.mplot3d import Axes3D\n",
    "import matplotlib.patches as patches\n",
    "import matplotlib as mpl\n",
    "\n",
    "\n",
    "\n",
    "def trplot2(T,name='',c='b'):  \n",
    "    t = T[0:2,2] # translation\n",
    "    R = T[:2,:2] # rotation  \n",
    "    X = t + R[:,0] # \n",
    "    Y = t + R[:,1]  \n",
    "    dtext = 0.1\n",
    "    plt.plot([t[0],X[0]],[t[1],X[1]],color=c,linewidth=2.0)\n",
    "    plt.plot([t[0],Y[0]],[t[1],Y[1]],color=c,linewidth=2.0)\n",
    "    plt.text(t[0]-dtext,t[1]-dtext,\"{\"+name+\"}\",fontsize=14)\n",
    "    plt.text(Y[0]+dtext/2,Y[1],r'$Y_{}$'.format(name),fontsize=14)\n",
    "    plt.text(X[0]+dtext/2,X[1],r'$X_{}$'.format(name),fontsize=14)\n",
    "    return None\n",
    " \n",
    "def se2(x,y,theta):  \n",
    "    #theta = np.random.rand()\n",
    "    R = np.array([[np.cos(theta),-np.sin(theta)],[np.sin(theta),np.cos(theta)]])\n",
    "    t = np.array([[x],[y]])\n",
    "    #q = np.concatenate([R,t], axis=1)\n",
    "    #T = np.concatenate([q,[[0,0,1]]])\n",
    "    T = np.block([[R,t],[0,0,1]])\n",
    "    return T\n",
    "\n",
    "def skew(w):\n",
    "    \"\"\"returns a skew symmetric matric from a vector\n",
    "    w is 3x1 array\"\"\"\n",
    "    w1 = w[0]\n",
    "    w2 = w[1]\n",
    "    w3 = w[2]\n",
    "    return np.array([[0,-w3,w2],[w3,0,-w1],[-w2,w1,0]])   \n",
    "\n",
    "\n",
    "def trplot3(ax,T,name=None):\n",
    "    \"\"\"    T is 3D homogeneous transformation matrix T = [R p; 0 1]\n",
    "    plots 3 vectors reference frame centered in p and orientation R\n",
    "    p is a 3 array - origin of frame\n",
    "    R is a 3x3 array - rotation matrix\n",
    "    assumes that a figure is currently open with axes ax\n",
    "    \"\"\"\n",
    "    R = T[0:3,0:3] # roation matrix\n",
    "    p = T[0:3,3]\n",
    "    X = R + p[:,np.newaxis] # X contains beacon coordinates in \"inertial\" frame\n",
    "    dtext = 0.1\n",
    "    ax.scatter(X[0,:],X[1,:],X[2,:],zdir='z', s=20) # plots beacon positions\n",
    "    plt.plot([p[0], X[0,0]],[p[1],  X[1,0]],[p[2], X[2,0]],'r',linewidth=2)\n",
    "    plt.plot([p[0], X[0,1]],[p[1],  X[1,1]],[p[2], X[2,1]],'g',linewidth=2)\n",
    "    plt.plot([p[0], X[0,2]],[p[1],  X[1,2]],[p[2], X[2,2]],'b',linewidth=2)\n",
    "    #ax.text(X[0]+dtext/2,X[1],r'$X_{}$'.format(name),fontsize=14)\n",
    "    if name is not None:\n",
    "        ax.text(p[0]-dtext,p[1]-dtext,p[2]-dtext, \"{\"+name+\"}\",fontsize=12)\n",
    "        ax.text(X[0,0]+dtext/2,X[1,0],X[2,0], \"$X_{}$\".format(name),fontsize=10)\n",
    "        ax.text(X[0,1]+dtext/2,X[1,1],X[2,1], \"$Y_{}$\".format(name),fontsize=10)\n",
    "        ax.text(X[0,2]+dtext/2,X[1,2],X[2,2], \"$Z_{}$\".format(name),fontsize=10)\n",
    "\n",
    "def e2h(p):\n",
    "    \"Euclidean to homogeneous coordinates\"\n",
    "    # adds a 1, works for 3D and 2D arrays\n",
    "    return np.append(p,1)\n",
    "\n",
    "def h2e(ph):\n",
    "    \"Homogeneous to Euclidean coordinates\"\n",
    "    # removes last coordinate, works for 3D and 2D arrays\n",
    "    return ph[:-1]\n",
    "\n",
    "\n",
    "def rotx(theta):\n",
    "    # 3D rotation matrix along x axis\n",
    "    return np.array([[1,0,0],\n",
    "                     [0,np.cos(theta),-np.sin(theta)],\n",
    "                     [0,np.sin(theta),np.cos(theta)]])\n",
    "\n",
    "def roty(theta):\n",
    "    # 3D rotation matrix along y axis\n",
    "    return np.array([[np.cos(theta),0,np.sin(theta)],\n",
    "                     [0,1,0],\n",
    "                     [-np.sin(theta),0, np.cos(theta)]])    \n",
    "    \n",
    "def rotz(theta):\n",
    "    # 3D rotation matrix along z axis\n",
    "    return np.array([[np.cos(theta),-np.sin(theta),0],\n",
    "                     [np.sin(theta),np.cos(theta),0],\n",
    "                     [0,0,1]])\n",
    "\n",
    "\n",
    "def trotx(theta):\n",
    "    # 3D homogeneous transform matrix rotation matrix along x axis\n",
    "    R = rotx(theta)\n",
    "    T = np.eye(4)\n",
    "    T[0:3,0:3] = R\n",
    "    return T\n",
    "\n",
    "def troty(theta):\n",
    "    # 3D homogeneous transform matrix rotation matrix along x axis\n",
    "    R = roty(theta)\n",
    "    T = np.eye(4)\n",
    "    T[0:3,0:3] = R\n",
    "    return T\n",
    "\n",
    "def trotz(theta):\n",
    "    # 3D homogeneous transform matrix rotation matrix along x axis\n",
    "    R = rotz(theta)\n",
    "    T = np.eye(4)\n",
    "    T[0:3,0:3] = R\n",
    "    return T\n",
    "\n",
    "def ttrans(p):\n",
    "    # 3D homogeneous transform matrix pure translation\n",
    "    T = np.eye(4)\n",
    "    T[0:3,3] = p\n",
    "    return T\n",
    "\n",
    "\n",
    "def plot_ship(x, theta):\n",
    "    # Vertex coordinates\n",
    "    L1 = 3\n",
    "    L2 = 6\n",
    "    L3 = 7\n",
    "    L = L1+L2+L3\n",
    "    N = 0.2\n",
    "    W1 = 2.3\n",
    "    W2 = 2.5\n",
    "    T = 2.3\n",
    "    vert = np.array([[0, 0],[-N, 0], [-W1 ,-L1], [-W2 ,-L1-L2],[-T,-L1-L2-L3]])\n",
    "    vert = vert + np.array([0,L])\n",
    "    n = vert.shape[0]\n",
    "    patch = np.zeros((2*n,2))\n",
    "    patch[:n,:] = vert\n",
    "    for i in range(n):\n",
    "        patch[n+i,:] = np.array([-vert[n-i-1,0],vert[n-i-1,1]])\n",
    "    polygon = patches.Polygon(patch, color=\"0.5\", alpha=1) \n",
    "    r = mpl.transforms.Affine2D().rotate(-theta)\n",
    "    t = mpl.transforms.Affine2D().translate(x[0],x[1])\n",
    "    tra = r + t + ax.transData\n",
    "    polygon.set_transform(tra)\n",
    "    ax.add_patch(polygon)\n",
    "    \n"
   ]
  },
  {
   "cell_type": "code",
   "execution_count": 3,
   "metadata": {},
   "outputs": [],
   "source": [
    "import numpy as np\n",
    "import matplotlib.pyplot as plt"
   ]
  },
  {
   "cell_type": "markdown",
   "metadata": {},
   "source": [
    "### Exercise 1\n",
    "#### a) Using the diagram, determine the positions of the points 1 and 2, denoted by red circles\n",
    "#### in the following reference frames\n",
    "\n",
    "##### a. Determine vectors \\$^Op_1, ^Ap_1, ^Bp_1, ^Cp_1\\$\n",
    "\n",
    "##### b. Determine vectors \\$^Op_2, ^Ap_2, ^Bp_2, ^Cp_2\\$\n"
   ]
  },
  {
   "cell_type": "code",
   "execution_count": 4,
   "metadata": {},
   "outputs": [],
   "source": [
    "#a.\n",
    "\n",
    "oP1 = np.array([1,3])\n",
    "aP1_graph = np.array([0,2])\n",
    "bB1_graph = np.array([0,-np.sqrt(2)])\n",
    "cP1_graph = np.array([3,-2])"
   ]
  },
  {
   "cell_type": "code",
   "execution_count": 5,
   "metadata": {},
   "outputs": [],
   "source": [
    "#b.\n",
    "\n",
    "oP2 = np.array([4,2])\n",
    "aP2_graph = np.array([3,1])\n",
    "bP2_graph = np.array([2*np.sqrt(2),0])\n",
    "cP2_graph = np.array([0,-1])"
   ]
  },
  {
   "cell_type": "markdown",
   "metadata": {},
   "source": [
    "\n",
    "\n",
    "\n",
    "#### b) Determine the homogeneous transformation matrices \\$^OT_A, ^OT_B, ^OT_C\\$"
   ]
  },
  {
   "cell_type": "code",
   "execution_count": 6,
   "metadata": {},
   "outputs": [
    {
     "data": {
      "text/plain": [
       "array([[ 1., -0.,  1.],\n",
       "       [ 0.,  1.,  1.],\n",
       "       [ 0.,  0.,  1.]])"
      ]
     },
     "execution_count": 6,
     "metadata": {},
     "output_type": "execute_result"
    }
   ],
   "source": [
    "# Find oTa\n",
    "oTa = se2(1,1,0)\n",
    "oTa "
   ]
  },
  {
   "cell_type": "code",
   "execution_count": 7,
   "metadata": {},
   "outputs": [
    {
     "data": {
      "text/plain": [
       "array([[ 0.70710678,  0.70710678,  2.        ],\n",
       "       [-0.70710678,  0.70710678,  4.        ],\n",
       "       [ 0.        ,  0.        ,  1.        ]])"
      ]
     },
     "execution_count": 7,
     "metadata": {},
     "output_type": "execute_result"
    }
   ],
   "source": [
    "# Find oTb\n",
    "oTb = se2(2,4,-np.pi/4)\n",
    "oTb"
   ]
  },
  {
   "cell_type": "code",
   "execution_count": 8,
   "metadata": {},
   "outputs": [
    {
     "data": {
      "text/plain": [
       "array([[-1.0000000e+00,  1.2246468e-16,  4.0000000e+00],\n",
       "       [-1.2246468e-16, -1.0000000e+00,  1.0000000e+00],\n",
       "       [ 0.0000000e+00,  0.0000000e+00,  1.0000000e+00]])"
      ]
     },
     "execution_count": 8,
     "metadata": {},
     "output_type": "execute_result"
    }
   ],
   "source": [
    "# Find oTc\n",
    "oTc = se2(4,1,-np.pi)\n",
    "oTc"
   ]
  },
  {
   "cell_type": "markdown",
   "metadata": {},
   "source": [
    "\n",
    "\n",
    "\n",
    "#### c) Determine the homogeneous transformation matrices \\$^BT_C, ^CT_A, ^AT_B\\$"
   ]
  },
  {
   "cell_type": "code",
   "execution_count": 9,
   "metadata": {},
   "outputs": [
    {
     "data": {
      "text/plain": [
       "array([[-0.70710678,  0.70710678,  3.53553391],\n",
       "       [-0.70710678, -0.70710678, -0.70710678],\n",
       "       [ 0.        ,  0.        ,  1.        ]])"
      ]
     },
     "execution_count": 9,
     "metadata": {},
     "output_type": "execute_result"
    }
   ],
   "source": [
    "# Find bTc\n",
    "bTc = se2((5*np.sqrt(2))/2,-(np.sqrt(2))/2,(np.pi*5)/4)\n",
    "bTc"
   ]
  },
  {
   "cell_type": "code",
   "execution_count": 10,
   "metadata": {},
   "outputs": [
    {
     "data": {
      "text/plain": [
       "array([[-1.0000000e+00, -1.2246468e-16,  3.0000000e+00],\n",
       "       [ 1.2246468e-16, -1.0000000e+00,  0.0000000e+00],\n",
       "       [ 0.0000000e+00,  0.0000000e+00,  1.0000000e+00]])"
      ]
     },
     "execution_count": 10,
     "metadata": {},
     "output_type": "execute_result"
    }
   ],
   "source": [
    "# Find cTa\n",
    "cTa = se2(3,0,np.pi)\n",
    "cTa"
   ]
  },
  {
   "cell_type": "code",
   "execution_count": 11,
   "metadata": {},
   "outputs": [
    {
     "data": {
      "text/plain": [
       "array([[ 0.70710678,  0.70710678,  1.        ],\n",
       "       [-0.70710678,  0.70710678,  3.        ],\n",
       "       [ 0.        ,  0.        ,  1.        ]])"
      ]
     },
     "execution_count": 11,
     "metadata": {},
     "output_type": "execute_result"
    }
   ],
   "source": [
    "# Find aTb\n",
    "aTb = se2(1,3,-np.pi/4)\n",
    "aTb"
   ]
  },
  {
   "cell_type": "markdown",
   "metadata": {},
   "source": [
    "\n",
    "\n",
    "\n",
    "#### d) Using the obtained transformation matrices \\$^OT_A, ^OT_B, ^OT_C\\$ and \\$^Op_1, ^Op_2\\$ from the\n",
    "#### diagram, determine the position vectors\n",
    "\n",
    "a. \\$^Ap_1, ^Bp_1, ^Cp_1\\$ \n",
    "\n",
    "b. \\$^Ap_2, ^Bp_2, ^Cp_2\\$"
   ]
  },
  {
   "cell_type": "code",
   "execution_count": 12,
   "metadata": {},
   "outputs": [],
   "source": [
    "# Create a function that returns the desired position vector using\n",
    "# a known reference vector and the homogeneous transfer matrix\n",
    "\n",
    "def newVec(aTb,aP1):\n",
    "    aP1_h = np.append(aP1,1) # coverts known vector to homogeneous, adds 1\n",
    "    bP1_h = np.linalg.inv(aTb).dot(aP1_h) # find the new vector\n",
    "    bP1 = bP1_h[:-1]\n",
    "    return bP1"
   ]
  },
  {
   "cell_type": "code",
   "execution_count": 13,
   "metadata": {},
   "outputs": [
    {
     "data": {
      "text/plain": [
       "array([0., 2.])"
      ]
     },
     "execution_count": 13,
     "metadata": {},
     "output_type": "execute_result"
    }
   ],
   "source": [
    "# a.\n",
    "# Find aP1\n",
    "aP1 = newVec(oTa,oP1)\n",
    "aP1"
   ]
  },
  {
   "cell_type": "code",
   "execution_count": 14,
   "metadata": {},
   "outputs": [
    {
     "data": {
      "text/plain": [
       "array([-2.22044605e-16, -1.41421356e+00])"
      ]
     },
     "execution_count": 14,
     "metadata": {},
     "output_type": "execute_result"
    }
   ],
   "source": [
    "# find bP1\n",
    "bP1 = newVec(oTb,oP1)\n",
    "bP1"
   ]
  },
  {
   "cell_type": "code",
   "execution_count": 15,
   "metadata": {},
   "outputs": [
    {
     "data": {
      "text/plain": [
       "array([ 3., -2.])"
      ]
     },
     "execution_count": 15,
     "metadata": {},
     "output_type": "execute_result"
    }
   ],
   "source": [
    "# Find cP1\n",
    "cP1 = newVec(oTc,oP1)\n",
    "cP1"
   ]
  },
  {
   "cell_type": "code",
   "execution_count": 16,
   "metadata": {},
   "outputs": [
    {
     "data": {
      "text/plain": [
       "array([3., 1.])"
      ]
     },
     "execution_count": 16,
     "metadata": {},
     "output_type": "execute_result"
    }
   ],
   "source": [
    "# b.\n",
    "# Find aP2\n",
    "aP2 = newVec(oTa,oP2)\n",
    "aP2"
   ]
  },
  {
   "cell_type": "code",
   "execution_count": 17,
   "metadata": {},
   "outputs": [
    {
     "data": {
      "text/plain": [
       "array([2.82842712, 0.        ])"
      ]
     },
     "execution_count": 17,
     "metadata": {},
     "output_type": "execute_result"
    }
   ],
   "source": [
    "# Find bP2\n",
    "bP2 = newVec(oTb,oP2)\n",
    "bP2"
   ]
  },
  {
   "cell_type": "code",
   "execution_count": 18,
   "metadata": {},
   "outputs": [
    {
     "data": {
      "text/plain": [
       "array([ 0., -1.])"
      ]
     },
     "execution_count": 18,
     "metadata": {},
     "output_type": "execute_result"
    }
   ],
   "source": [
    "# Find cP2\n",
    "cP2 = newVec(oTc,oP2)\n",
    "cP2"
   ]
  },
  {
   "cell_type": "markdown",
   "metadata": {},
   "source": [
    "\n",
    "\n",
    "### Exercise 2 \n",
    "#### Determine if the following are valid rotation matrices. \n",
    "\n",
    "HINT: A rotation matrix satisfies:\n",
    "\\$det(R) = 1\\$ and \\$R^TR = I\\$\n",
    "\n",
    "a. \\$R = \\begin{bmatrix}0.995 & -0.0998\\\\ 0.0998 & 0.995\\end{bmatrix}\\$"
   ]
  },
  {
   "cell_type": "code",
   "execution_count": 19,
   "metadata": {},
   "outputs": [],
   "source": [
    "# Create a funcion that checks if the current matrix satisfies the two statements above. Since we use a computer\n",
    "# this will be approximate\n",
    "\n",
    "def isRotMat(R):\n",
    "    Rdim = R.shape\n",
    "    RtR = R.T.dot(R)\n",
    "    tol = 1e-5\n",
    "    detR = np.linalg.det(R)\n",
    "    \n",
    "    #checks if RtR and detR is close to the identity matrix and 1.\n",
    "    if np.allclose(RtR,np.identity(Rdim[0]), rtol=tol, atol=tol) and np.isclose(detR,1,rtol=tol, atol=tol):\n",
    "        print(\"R =\\n\",R,\"Is a valid rotation matrix\\n\")\n",
    "        print(\"det(R) = \",detR,\"\\n\")\n",
    "        print(\"R^TR = \\n\",RtR)\n",
    "    else:\n",
    "        print(\"R =\\n\", R,\"Is NOT avalid rotation matrix\\n\")\n",
    "        print(\"det(R) = \",detR,\"\\n\")\n",
    "        print(\"R^TR = \\n\",RtR)\n",
    "    return 0"
   ]
  },
  {
   "cell_type": "code",
   "execution_count": 20,
   "metadata": {},
   "outputs": [
    {
     "name": "stdout",
     "output_type": "stream",
     "text": [
      "R =\n",
      " [[ 0.995  -0.0998]\n",
      " [ 0.0998  0.995 ]] Is a valid rotation matrix\n",
      "\n",
      "det(R) =  0.9999850399999999 \n",
      "\n",
      "R^TR = \n",
      " [[ 9.99985040e-01 -9.98312544e-19]\n",
      " [-9.98312544e-19  9.99985040e-01]]\n"
     ]
    },
    {
     "data": {
      "text/plain": [
       "0"
      ]
     },
     "execution_count": 20,
     "metadata": {},
     "output_type": "execute_result"
    }
   ],
   "source": [
    "#a\n",
    "isRotMat(np.array([[0.995,-0.0998],[0.0998, 0.995]]))"
   ]
  },
  {
   "cell_type": "code",
   "execution_count": 21,
   "metadata": {},
   "outputs": [
    {
     "name": "stdout",
     "output_type": "stream",
     "text": [
      "R =\n",
      " [[1 0]\n",
      " [0 1]] Is a valid rotation matrix\n",
      "\n",
      "det(R) =  1.0 \n",
      "\n",
      "R^TR = \n",
      " [[1 0]\n",
      " [0 1]]\n"
     ]
    },
    {
     "data": {
      "text/plain": [
       "0"
      ]
     },
     "execution_count": 21,
     "metadata": {},
     "output_type": "execute_result"
    }
   ],
   "source": [
    "# b. and e.\n",
    "isRotMat(np.array([[1,0],[0,1]]))"
   ]
  },
  {
   "cell_type": "code",
   "execution_count": 22,
   "metadata": {},
   "outputs": [
    {
     "name": "stdout",
     "output_type": "stream",
     "text": [
      "R =\n",
      " [[ 1  0]\n",
      " [ 0 -1]] Is NOT avalid rotation matrix\n",
      "\n",
      "det(R) =  -1.0 \n",
      "\n",
      "R^TR = \n",
      " [[1 0]\n",
      " [0 1]]\n"
     ]
    },
    {
     "data": {
      "text/plain": [
       "0"
      ]
     },
     "execution_count": 22,
     "metadata": {},
     "output_type": "execute_result"
    }
   ],
   "source": [
    "# c.\n",
    "isRotMat(np.array([[1, 0],[0,-1]]))"
   ]
  },
  {
   "cell_type": "code",
   "execution_count": 23,
   "metadata": {},
   "outputs": [
    {
     "name": "stdout",
     "output_type": "stream",
     "text": [
      "R =\n",
      " [[1 1]\n",
      " [0 2]] Is NOT avalid rotation matrix\n",
      "\n",
      "det(R) =  2.0 \n",
      "\n",
      "R^TR = \n",
      " [[1 1]\n",
      " [1 5]]\n"
     ]
    },
    {
     "data": {
      "text/plain": [
       "0"
      ]
     },
     "execution_count": 23,
     "metadata": {},
     "output_type": "execute_result"
    }
   ],
   "source": [
    "# d.\n",
    "isRotMat(np.array([[1,1],[0,2]]))"
   ]
  },
  {
   "cell_type": "code",
   "execution_count": 24,
   "metadata": {},
   "outputs": [
    {
     "name": "stdout",
     "output_type": "stream",
     "text": [
      "R =\n",
      " [[ 0.70710678 -0.70710678]\n",
      " [ 0.70710678  0.70710678]] Is a valid rotation matrix\n",
      "\n",
      "det(R) =  1.0 \n",
      "\n",
      "R^TR = \n",
      " [[ 1.00000000e+00 -4.26642159e-17]\n",
      " [-4.26642159e-17  1.00000000e+00]]\n"
     ]
    },
    {
     "data": {
      "text/plain": [
       "0"
      ]
     },
     "execution_count": 24,
     "metadata": {},
     "output_type": "execute_result"
    }
   ],
   "source": [
    "# f. and g.\n",
    "a = np.sqrt(2)/2\n",
    "isRotMat(np.array([[a,-a],[a,a]]))"
   ]
  },
  {
   "cell_type": "code",
   "execution_count": 25,
   "metadata": {},
   "outputs": [
    {
     "name": "stdout",
     "output_type": "stream",
     "text": [
      "R =\n",
      " [[-0.5   -0.866]\n",
      " [ 0.866 -0.5  ]] Is NOT avalid rotation matrix\n",
      "\n",
      "det(R) =  0.999956 \n",
      "\n",
      "R^TR = \n",
      " [[0.999956 0.      ]\n",
      " [0.       0.999956]]\n"
     ]
    },
    {
     "data": {
      "text/plain": [
       "0"
      ]
     },
     "execution_count": 25,
     "metadata": {},
     "output_type": "execute_result"
    }
   ],
   "source": [
    "# h. and i.\n",
    "isRotMat(np.array([[-0.5,-0.866],[0.866,-0.5]]))"
   ]
  },
  {
   "cell_type": "markdown",
   "metadata": {},
   "source": [
    "\n",
    "\n",
    "### Exercise 3 \n",
    "#### Consider a rotation matrix, \\$R(\\theta) = \\begin{bmatrix}\\cos{\\theta} & -\\sin{\\theta}\\\\ \\sin{\\theta} & \\cos{\\theta}\\end{bmatrix} \\$\n",
    "\n",
    "#### a. Show that 𝑅(0) = \\$I_2\\$ where \\$I_2\\$ is the identity matrix of dimension 2.\n",
    "\n",
    "Given:\n",
    "\n",
    "\\$I_2 = \\begin{bmatrix} 1 & 0 \\\\ 0 & 1 \\end{bmatrix}\\$\n",
    "\n",
    "\\$\\sin{(0)} = 0\\\\\n",
    "\\cos{(0)} = 1\\$\n",
    "\n",
    "Solution:\n",
    "\n",
    "\\$R(0) = \\begin{bmatrix}\\cos{(0)} & -\\sin{(0)}\\\\ \\sin{(0)} & \\cos{(0)}\\end{bmatrix} = \\begin{bmatrix} 1 & 0 \\\\ 0 & 1 \\end{bmatrix} = I_2\\$\n"
   ]
  },
  {
   "cell_type": "markdown",
   "metadata": {},
   "source": [
    "\n",
    "\n",
    "\n",
    "#### b. Show that \\$det(𝑅{(\\theta)})=+1\\$ for any angle \\$\\theta\\$\n",
    "\n",
    "Given:\n",
    "\n",
    "The 2x2 rotation matrix \n",
    "\n",
    "\\$R(\\theta) = \\begin{bmatrix}\\cos{\\theta} & -\\sin{\\theta}\\\\ \\sin{\\theta} & \\cos{\\theta}\\end{bmatrix} \\$\n",
    "\n",
    "Solution:\n",
    "\n",
    "We can show that \\$det(𝑅{(\\theta)})=+1\\$ for any angle \\$\\theta\\$ by using the trigonometric identity \\$\\cos^2(\\theta) + \\sin^2(\\theta) = 1\\$ in combination with the equation for finding the determinant of a 2x2 matrix \\$\\det(A)=\\frac{1}{ad-bc}\\$ where \\$ \\begin{bmatrix}a & b \\\\ c & d\\end{bmatrix} = \\begin{bmatrix}\\cos{\\theta} & -\\sin{\\theta}\\\\ \\sin{\\theta} & \\cos{\\theta}\\end{bmatrix} \\$\n",
    "\n",
    "\\$\\det(𝑅{(\\theta)})=\\frac{1}{\\cos(\\theta)\\cdot\\cos(\\theta)-(-\\sin(\\theta)\\cdot\\sin(\\theta))} = \\frac{1}{\\cos^2(\\theta)+\\sin^2(\\theta)} = \\frac{1}{1} = 1 \\$"
   ]
  },
  {
   "cell_type": "markdown",
   "metadata": {},
   "source": [
    "\n",
    "\n",
    "\n",
    "#### c. Show that \\$R{(\\theta)}^TR(\\theta) = I_2\\$\n",
    "\n",
    "Given:\n",
    "\n",
    "\\$\\cos^2(\\theta) + \\sin^2(\\theta) = 1\\$\n",
    "\n",
    "\\$R(\\theta) = \\begin{bmatrix}\\cos{\\theta} & -\\sin{\\theta}\\\\ \\sin{\\theta} & \\cos{\\theta}\\end{bmatrix} \\$\n",
    "\n",
    "\\$R(\\theta)^T = \\begin{bmatrix}\\cos{\\theta} & \\sin{\\theta}\\\\ -\\sin{\\theta} & \\cos{\\theta}\\end{bmatrix} \\$\n",
    "\n",
    "Solution:\n",
    "\n",
    "\\$R{(\\theta)}^TR(\\theta) = \\begin{bmatrix}\\cos{\\theta} & \\sin{\\theta}\\\\ -\\sin{\\theta} & \\cos{\\theta}\\end{bmatrix} \\cdot \\begin{bmatrix}\\cos{\\theta} & -\\sin{\\theta}\\\\ \\sin{\\theta} & \\cos{\\theta}\\end{bmatrix} =  \\begin{bmatrix}{\\cos^2{\\theta}+\\sin^2{\\theta} } & -{\\cos{\\theta}\\sin{\\theta}} +{\\cos{\\theta}\\sin{\\theta}} \\\\ -{\\cos{\\theta}\\sin{\\theta}} +{\\cos{\\theta}\\sin{\\theta}} & {\\cos^2{\\theta}+\\sin^2{\\theta} }\\end{bmatrix} = \\begin{bmatrix} 1 && 0\\\\ 0 && 1 \\end{bmatrix} = I_2\\$"
   ]
  },
  {
   "cell_type": "markdown",
   "metadata": {},
   "source": [
    "\n",
    "\n",
    "\n",
    "#### d. Show that \\$R{(-\\theta)}=R(\\theta)^T\\$\n",
    "\n",
    "Given:\n",
    "\n",
    "According to opposite angles we can express\n",
    "\n",
    "\\$\\cos{-\\theta} = \\cos{\\theta}\\\\\n",
    "\\sin{-\\theta} = -\\sin{\\theta}\\$\n",
    "\n",
    "Solution:\n",
    "\n",
    "\\$R(-\\theta) = \\begin{bmatrix}\\cos{(-\\theta)} & -\\sin{(-\\theta)}\\\\ \\sin{(-\\theta)} & \\cos{(-\\theta)}\\end{bmatrix} = \\begin{bmatrix}\\cos{\\theta} & \\sin{\\theta}\\\\ -\\sin{\\theta} & \\cos{\\theta}\\end{bmatrix} = R(\\theta)^T \\$"
   ]
  },
  {
   "cell_type": "markdown",
   "metadata": {},
   "source": [
    "\n",
    "\n",
    "\n",
    "#### e. Show that R(a)R(b) = R(a+b)\n",
    "\n",
    "Given:\n",
    "\n",
    "\\$R(a) = \\begin{bmatrix}\\cos{a} & -\\sin{a}\\\\ \\sin{a} & \\cos{a}\\end{bmatrix} \\\\\n",
    "R(b) = \\begin{bmatrix}\\cos{b} & -\\sin{b}\\\\ \\sin{b} & \\cos{b}\\end{bmatrix}  \\$\n",
    "\n",
    "\\$\n",
    "\\sin(a\\pm b) = \\sin a \\cdot cos b \\pm \\cos a \\cdot \\sin b\\\\\n",
    "\\cos(a\\pm b) = \\cos a \\cdot cos b \\mp \\sin a \\cdot \\sin b\n",
    "\\$\n",
    "\n",
    "Solution:\n",
    "\n",
    "\\$\n",
    "R(a)R(b) = \\begin{bmatrix}\\cos{a} & -\\sin{a}\\\\ \\sin{a} & \\cos{a}\\end{bmatrix} \\cdot \\begin{bmatrix}\\cos{b} & -\\sin{b}\\\\ \n",
    "\\sin{b} & \\cos{b}\\end{bmatrix} = \\begin{bmatrix} (cos(a) cos(b) - sin(a) sin(b)) & (-cos(a) sin(b) - cos(b) sin(a)) \\\\\n",
    "(cos(b) sin(a) + cos(a) sin(b)) & (-sin(b) sin(a) + cos(a) cos(b))\\end{bmatrix}=\\$\n",
    "\\$\n",
    "\\begin{bmatrix} cos(a+b) & -(cos(a) sin(b) + cos(b) sin(a)) \\\\\n",
    "sin(a+b) & cos(a+b)\\end{bmatrix} = \n",
    "\\begin{bmatrix} cos(a+b) & -sin(a+b) \\\\\n",
    "sin(a+b) & cos(a+b)\\end{bmatrix} = R(a+b)\n",
    "\\$"
   ]
  },
  {
   "cell_type": "markdown",
   "metadata": {},
   "source": [
    "\n",
    "\n",
    "\n",
    "#### f. Show that the columns of $R(\\theta)$ are orthonormal (ortogonal and unit norm)\n",
    "\n",
    "##### Given:\n",
    "\n",
    "\\$R = \\begin{bmatrix} \\mathbf{a} & \\mathbf{b}\\end{bmatrix} = \\begin{bmatrix} a_1 & b_1\\\\ a_2 & b_2\\end{bmatrix} = \\begin{bmatrix}\\cos{\\theta} & -\\sin{\\theta}\\\\ \\sin{\\theta} & \\cos{\\theta}\\end{bmatrix}\\$\n",
    "\n",
    "The columns are unit norm if the lengths \\$||\\mathbf{a}||^2=\\sqrt{a_{1}^2 +a_{2}^2} = 1\\$ and \\$||\\mathbf{b}||^2=\\sqrt{b_{1}^2 +b_{2}^2} = 1\\$\n",
    "\n",
    "The columns are ortogonal if \\$\\mathbf{a^Tb} = 0\\$\n",
    "\n",
    "##### Solution:\n",
    "\n",
    "Unit norm:\n",
    "\n",
    "Column \\$\\mathbf{a}\\$:\n",
    "\n",
    "\\$||\\mathbf{a}||^2  = \\sqrt{a_{1}^2 +a_{2}^2} = \\sqrt{cos^2(\\theta) +sin^2(\\theta)} = \\sqrt{1} = 1\\$\n",
    "\n",
    "Column \\$\\mathbf{b}\\$:\n",
    "\n",
    "\\$||\\mathbf{b}||^2  = \\sqrt{b_{1}^2 +b_{2}^2} = \\sqrt{(-sin(\\theta))^2 +cos^2(\\theta)} = \\sqrt{1} = 1\\$\n",
    "\n",
    "Ortogonal:\n",
    "\n",
    "\\$\\mathbf{a^Tb} = \\begin{bmatrix}cos(\\theta) & sin(\\theta)\\end{bmatrix} \\cdot \\begin{bmatrix}-sin(\\theta) \\\\ cos(\\theta)\\end{bmatrix} = -sin(\\theta)cos(\\theta) + sin(\\theta)cos(\\theta) = 0\\$"
   ]
  },
  {
   "cell_type": "markdown",
   "metadata": {},
   "source": [
    "\n",
    "\n",
    "\n",
    "#### g. Show that the rows of \\$R(\\theta)\\$ are orthonormal\n",
    "\n",
    "##### Solution:\n",
    "\n",
    "Unit norm:\n",
    "\n",
    "Row \\$a_{1}b_{1}\\$:\n",
    "\n",
    "\\$||a_{1}b_{1}||^2 = \\sqrt{a_{1}^2 +b_{1}^2} = \\sqrt{cos^2(\\theta) + (-sin(\\theta))^2} = \\sqrt{1} = 1\\$\n",
    "\n",
    "Row \\$a_{2}b_{2}\\$:\n",
    "\n",
    "\\$||a_{2}b_{2}||^2 = \\sqrt{a_{2}^2 +b_{2}^2} = \\sqrt{sin^2(\\theta) + cos^2(\\theta)} = \\sqrt{1} = 1\\$\n",
    "\n",
    "Ortogonal:\n",
    "\n",
    "\\${a_{1}b_{1}}^T \\cdot a_{2}b_{2} = \\begin{bmatrix}cos(\\theta) \\\\ -sin(\\theta)\\end{bmatrix} \\cdot \\begin{bmatrix}sin(\\theta) & cos(\\theta)\\end{bmatrix} = sin(\\theta)cos(\\theta) - sin(\\theta)cos(\\theta) = 0\\$"
   ]
  },
  {
   "cell_type": "markdown",
   "metadata": {},
   "source": [
    "\n",
    "\n",
    "### Exercise 4\n",
    "Consider the transforms\n",
    "\n",
    "\\$T_1 = \\begin{bmatrix} R_1 & t_1 \\\\ 0_{1x2} & 1 \\end{bmatrix}\\$\n",
    "\\$T_2 = \\begin{bmatrix} R_2 & t_2 \\\\ 0_{1x2} & 1 \\end{bmatrix}\\$\n",
    "\n",
    "where\n",
    "\n",
    "\\$t_1 = \\begin{bmatrix} x_1 \\\\ y_1 \\end{bmatrix}\\$\n",
    "\\$t_2 = \\begin{bmatrix} x_2 \\\\ y_2 \\end{bmatrix}\\$\n",
    "\\$0_{1x2} = \\begin{bmatrix} 0 & 0 \\end{bmatrix}\\$\n",
    "\n",
    "show that \n",
    "\n",
    "\\$T_{1}T_{2} =\\begin{bmatrix} R_{1}R_{2} & t_1 + R_{1}t_{2} \\\\ 0_{1x2} & 1 \\end{bmatrix} \\$\n",
    "\n",
    "\n",
    "Since the dimenions for each \"inner\" matrix is we can multiply\n",
    "\n",
    "\\$T_1 \\cdot T_2 = \\begin{bmatrix} R_1 & t_1 \\\\ 0_{1x2} & 1 \\end{bmatrix} \\cdot \\begin{bmatrix} R_2 & t_2 \\\\ 0_{1x2} & 1 \\end{bmatrix} = \\begin{bmatrix} R_{1}R_{2} + (t_{1}\\cdot0_{1X2}) & t_1+R_{1}t_2 \\\\ (0_{1X2}\\cdot{R_2}) + 0_{1X2} & (0_{1X2}\\cdot t_2)+1 \\end{bmatrix} \\$\n",
    "\n",
    "Computing the different \"inner\" matrix multiplications\n",
    "\n",
    "\\$(t_1 \\cdot 0_{1X2}) = \\begin{bmatrix} x_1 \\\\ y_1 \\end{bmatrix} \\begin{bmatrix} 0 & 0 \\end{bmatrix} = \\begin{bmatrix} 0 & 0 \\\\ 0 & 0 \\end{bmatrix}\\$\n",
    "\n",
    "\\$(0_{1X2} \\cdot R_2) = \\begin{bmatrix} 0 & 0 \\end{bmatrix} \\begin{bmatrix} cos(\\theta) & -sin(\\theta) \\\\ sin(\\theta) & cos(\\theta)  \\end{bmatrix} = \\begin{bmatrix} 0 & 0 \\end{bmatrix}\\$\n",
    "\n",
    "\\$(0_{1X2} \\cdot t_2)  = \\begin{bmatrix} 0 & 0 \\end{bmatrix} \\begin{bmatrix} x_2 \\\\ y_2 \\end{bmatrix} = 0\\$\n",
    "\n",
    "\n",
    "This means that we express \\$T_{1}T_{2}\\$ as \n",
    "\n",
    "\\$T_1 \\cdot T_2 = \\begin{bmatrix} R_{1}R_{2} + (t_{1}\\cdot0_{1X2}) & t_1+R_{1}t_2 \\\\ (0_{1X2}\\cdot{R_2}) + 0_{1X2} & (0_{1X2}\\cdot t_2)+1 \\end{bmatrix} =  \\begin{bmatrix} R_{1}R_{2} & t_1 + R_{1}t_{2} \\\\ 0_{1x2} & 1 \\end{bmatrix}\\$"
   ]
  },
  {
   "cell_type": "markdown",
   "metadata": {},
   "source": [
    "\n",
    "\n",
    "\n",
    "### Exercise 5\n",
    "\n",
    "Show that \\$T^{-1} = \\begin{bmatrix} R^T & -R^T t \\\\ 0_{1X2} & 1 \\end{bmatrix}\\$ is the inverse transform of \\$T = \\begin{bmatrix} R & t \\\\ 0_{1X2} & 1 \\end{bmatrix}\\$\n",
    "\n",
    "By using the definition for the invertibe matrix, \\$A\\$ is \\$A^{-1}\\$ only when \\$A \\cdot A^{-1} = A^{-1} \\cdot A = I_n\\$, we want to show that \\$T^{-1}\\$ is the invertible matrix of \\$T\\$.\n",
    "\n",
    "\\$\\\\ \\$\n",
    "The first step is to compute \\$TT^{-1}\\$. Since the dimenions for each \"inner\" matrix is we can multiply\n",
    "\n",
    "\\$TT^{-1} = \\begin{bmatrix} R & t \\\\ 0_{1X2} & 1 \\end{bmatrix} \\cdot \\begin{bmatrix} R^T & -R^Tt \\\\ 0_{1X2} & 1 \\end{bmatrix} = \\begin{bmatrix} RR^T + (t \\cdot 0_{1X2}) & (R \\cdot(-R^Tt)+t) \\\\ (0_{1X2}\\cdot R^T) + 0_{1X2} & (0_{1X2}\\cdot(-R^Tt)+1) \\end{bmatrix} = \\begin{bmatrix} RR^T + (t \\cdot 0_{1X2}) & (-RR^Tt)+t \\\\ (0_{1X2}\\cdot R^T) + 0_{1X2} & (0_{1X2}\\cdot-R^Tt+1) \\end{bmatrix}\\$\n",
    "\n",
    "Computing the different \"inner\" matrix multiplications\n",
    "\n",
    "\\$RR^T = \\begin{bmatrix}\\cos{\\theta} & -\\sin{\\theta}\\\\ \\sin{\\theta} & \\cos{\\theta}\\end{bmatrix} \\cdot \\begin{bmatrix}\\cos{\\theta} & \\sin{\\theta}\\\\ -\\sin{\\theta} & \\cos{\\theta}\\end{bmatrix} =  \\begin{bmatrix}{\\cos^2{\\theta}+\\sin^2{\\theta} } & {\\cos{\\theta}\\sin{\\theta}} -\n",
    "{\\cos{\\theta}\\sin{\\theta}} \\\\ {\\cos{\\theta}\\sin{\\theta}} -{\\cos{\\theta}\\sin{\\theta}} & {\\cos^2{\\theta}+\\sin^2{\\theta} }\\end{bmatrix} = \\begin{bmatrix} 1 && 0\\\\ 0 && 1 \\end{bmatrix} = I_2 \\$\n",
    "\n",
    "\\$(t \\cdot 0_{1X2}) = \\begin{bmatrix} x \\\\ y \\end{bmatrix} \\begin{bmatrix} 0 & 0 \\end{bmatrix} = \\begin{bmatrix} 0 & 0 \\\\ 0 & 0 \\end{bmatrix}\\$\n",
    "\n",
    "\\$RR^T \\cdot t = I_2\\cdot t = \\begin{bmatrix} 1 && 0\\\\ 0 && 1 \\end{bmatrix} \\cdot \\begin{bmatrix} x \\\\ y \\end{bmatrix} = \\begin{bmatrix} x \\\\ y \\end{bmatrix} \\$\n",
    "\n",
    "\\$(0_{1X2} \\cdot R^T) = \\begin{bmatrix} 0 & 0 \\end{bmatrix} \\begin{bmatrix} cos(\\theta) & sin(\\theta) \\\\ -sin(\\theta) & cos(\\theta)  \\end{bmatrix} = \\begin{bmatrix} 0 & 0 \\end{bmatrix}\\$\n",
    "\n",
    "\n",
    "\\$(0_{1X2}\\cdot-R^Tt) = \\begin{bmatrix} 0 & 0 \\end{bmatrix} \\cdot -\\begin{bmatrix} cos(\\theta) & sin(\\theta) \\\\ -sin(\\theta) & cos(\\theta) \\end{bmatrix} \\begin{bmatrix} x \\\\ y \\end{bmatrix} = \\begin{bmatrix} 0 & 0 \\end{bmatrix}  \\cdot \\begin{bmatrix} -xcos(\\theta)-ysin(\\theta) \\\\ xsin(\\theta)-ycos(\\theta) \\end{bmatrix} = 0(-xcos(\\theta)-ysin(\\theta))+ 0(xsin(\\theta)-ycos(\\theta)) = 0  \\$\n",
    "\n",
    "\n",
    "This means we can express \\$TT^{-1}\\$ as\n",
    "\n",
    "\\$ TT^{-1} = \\begin{bmatrix} I_2 & (-t+t) \\\\ 0_{1X2} & 1 \\end{bmatrix} = \\begin{bmatrix} I_2 & 0 \\\\ 0_{1X2} & 1 \\end{bmatrix} = \\begin{bmatrix} 1 & 0 & 0 \\\\ 0 & 1 & 0 \\\\ 0 & 0 & 1 \\end{bmatrix} = I_3  \\$\n",
    "\n",
    "\n",
    "\n",
    "\\$\\\\ \\$\n",
    "The next step is to compute $T^{-1}T$. Since the dimenions for each \"inner\" matrix is we can multiply\n",
    "\n",
    "\\$T^{-1}T = \\begin{bmatrix} R^T & -R^Tt \\\\ 0_{1X2} & 1 \\end{bmatrix} \\cdot \\begin{bmatrix} R & t \\\\ 0_{1X2} & 1 \\end{bmatrix} = \\begin{bmatrix} R^TR + (-R^Tt\\cdot0_{1X2}) & (R^Tt -R^Tt) \\\\ (0_{1X2}\\cdot R) + 0_{1X2} & (0_{1X2}\\cdot t)+1) \\end{bmatrix} \\$\n",
    "\n",
    "Computing the different \"inner\" matrix multiplications\n",
    "\n",
    "\\$R^TR = \\begin{bmatrix}\\cos{\\theta} & \\sin{\\theta}\\\\ -\\sin{\\theta} & \\cos{\\theta}\\end{bmatrix} \\cdot \\begin{bmatrix}\\cos{\\theta} & -\\sin{\\theta}\\\\ \\sin{\\theta} & \\cos{\\theta}\\end{bmatrix} =  \\begin{bmatrix}{\\cos^2{\\theta}+\\sin^2{\\theta} } & -{\\cos{\\theta}\\sin{\\theta}} +{\\cos{\\theta}\\sin{\\theta}} \\\\ -{\\cos{\\theta}\\sin{\\theta}} +{\\cos{\\theta}\\sin{\\theta}} & {\\cos^2{\\theta}+\\sin^2{\\theta} }\\end{bmatrix} = \\begin{bmatrix} 1 && 0\\\\ 0 && 1 \\end{bmatrix} = I_2\\$\n",
    "\n",
    "\\$(-R^Tt\\cdot 0_{1X2}) = \\begin{bmatrix} -xcos(\\theta)-ysin(\\theta) \\\\ xsin(\\theta)-ycos(\\theta) \\end{bmatrix} \\cdot \\begin{bmatrix} 0 & 0 \\end{bmatrix} = \\begin{bmatrix} 0 & 0 \\\\ 0 & 0 \\end{bmatrix}\\$\n",
    "\n",
    "\\$(0_{1X2} \\cdot R) = \\begin{bmatrix} 0 & 0 \\end{bmatrix} \\begin{bmatrix} cos(\\theta) & -sin(\\theta) \\\\ sin(\\theta) & cos(\\theta)  \\end{bmatrix} = \\begin{bmatrix} 0 & 0 \\end{bmatrix}\\$\n",
    "\n",
    "\\$(0_{1X2} \\cdot t)  = \\begin{bmatrix} 0 & 0 \\end{bmatrix} \\begin{bmatrix} x \\\\ y \\end{bmatrix} = 0\\$\n",
    "\n",
    "\n",
    "This means we can express \\$TT^{-1}\\$ as\n",
    "\n",
    "\\$ T^{-1}T = \\begin{bmatrix} I_2 & 0 \\\\ 0_{1X2} & 1 \\end{bmatrix} = \\begin{bmatrix} 1 & 0 & 0 \\\\ 0 & 1 & 0 \\\\ 0 & 0 & 1 \\end{bmatrix} = I_3  \\$\n",
    "\n",
    "These results show that \\$TT^{-1}=T^{-1}T = I_3\\$ and proves that \\$T^{-1}\\$ infact is the invertible matrix of \\$T\\$\n"
   ]
  },
  {
   "cell_type": "markdown",
   "metadata": {},
   "source": [
    "\n",
    "\n",
    "### Exercise 6\n",
    "\n",
    "a) Determine the associated homogeneous transformation matrices \\$B_{T_{W}} B_{T_{T}}\\$\n"
   ]
  },
  {
   "cell_type": "code",
   "execution_count": 26,
   "metadata": {},
   "outputs": [
    {
     "data": {
      "text/plain": [
       "array([[ 0.93969262,  0.34202014,  3.        ],\n",
       "       [-0.34202014,  0.93969262,  1.        ],\n",
       "       [ 0.        ,  0.        ,  1.        ]])"
      ]
     },
     "execution_count": 26,
     "metadata": {},
     "output_type": "execute_result"
    }
   ],
   "source": [
    "# To find the homogeneous transformation matrices we use se2(x,y,theta) from Robotteknikk.py\n",
    "\n",
    "# BtW, x = 3 y = 1 theta = -20 degrees\n",
    "BtW = se2(3,1,np.radians(-20))\n",
    "BtW"
   ]
  },
  {
   "cell_type": "code",
   "execution_count": 27,
   "metadata": {},
   "outputs": [
    {
     "data": {
      "text/plain": [
       "array([[ 0.98480775, -0.17364818,  5.        ],\n",
       "       [ 0.17364818,  0.98480775,  4.        ],\n",
       "       [ 0.        ,  0.        ,  1.        ]])"
      ]
     },
     "execution_count": 27,
     "metadata": {},
     "output_type": "execute_result"
    }
   ],
   "source": [
    "# BtT, x = 5 y = 4 theta = 10 degrees \n",
    "BtT = se2(5,4,np.radians(10))\n",
    "BtT"
   ]
  },
  {
   "cell_type": "markdown",
   "metadata": {},
   "source": [
    "\n",
    "\n",
    "\n",
    "b) Using \\$B_{T_{W}} B_{T_{T}} \\$ determine \\$W_{T_{T}}\\$\n",
    "\n",
    "We can use the rule that \\$\\ominus ^B{T_{W}} = {^WT_{B}} \\rightarrow {^WT_B} = (^BT_W)^{-1} \\$ and with this we can determine \\$W_{T_{T}} = W_{T_{B}} \\oplus B_{T_{T}} \\$\n",
    "\n",
    "To compute this we use:"
   ]
  },
  {
   "cell_type": "code",
   "execution_count": 28,
   "metadata": {},
   "outputs": [
    {
     "data": {
      "text/plain": [
       "array([[ 0.93969262, -0.34202014, -2.47705772],\n",
       "       [ 0.34202014,  0.93969262, -1.96575305],\n",
       "       [ 0.        ,  0.        ,  1.        ]])"
      ]
     },
     "execution_count": 28,
     "metadata": {},
     "output_type": "execute_result"
    }
   ],
   "source": [
    "WtB = np.linalg.inv(BtW) # By finding the inverse matrix of BtW we get the homogeneous transformation matrix WtB\n",
    "                         # which basically is the same vector path, but different direction\n",
    "WtB"
   ]
  },
  {
   "cell_type": "markdown",
   "metadata": {},
   "source": [
    "\n",
    "\n",
    "\n",
    "With this new homogeneous transformation matrix it is possible to determine \\${^WT_{T}} = {^WT_{B}} \\oplus {^BT_{T}} \\$. \n",
    "\n",
    "To compute this we use:"
   ]
  },
  {
   "cell_type": "code",
   "execution_count": 29,
   "metadata": {},
   "outputs": [
    {
     "data": {
      "text/plain": [
       "array([[ 0.8660254 , -0.5       ,  0.85332481],\n",
       "       [ 0.5       ,  0.8660254 ,  3.50311815],\n",
       "       [ 0.        ,  0.        ,  1.        ]])"
      ]
     },
     "execution_count": 29,
     "metadata": {},
     "output_type": "execute_result"
    }
   ],
   "source": [
    "WtT = WtB.dot(BtT)\n",
    "WtT"
   ]
  },
  {
   "cell_type": "markdown",
   "metadata": {},
   "source": [
    "\n",
    "\n",
    "c) Determine the coordinates of the point 𝑝 in frame {𝑊} denoted by \\$^Wp\\$\n",
    "\n",
    "From the frame of reference {W} the coordinates to \\$^Wp = \\begin{bmatrix} x \\\\ y \\end{bmatrix} = \\begin{bmatrix} 3 \\\\ 2 \\end{bmatrix}\\$ \n",
    "\n"
   ]
  },
  {
   "cell_type": "code",
   "execution_count": 30,
   "metadata": {},
   "outputs": [
    {
     "data": {
      "text/plain": [
       "array([3, 2])"
      ]
     },
     "execution_count": 30,
     "metadata": {},
     "output_type": "execute_result"
    }
   ],
   "source": [
    "Wp = np.array([3,2])\n",
    "Wp"
   ]
  },
  {
   "cell_type": "markdown",
   "metadata": {},
   "source": [
    "\n",
    "\n",
    "\n",
    "d) Using \\$^BT_W\\$ and \\${^Wp}\\$, determine \\$^Bp\\$\n",
    "\n",
    "To find \\$^Bp\\$ we can use the following equation\n",
    "\n",
    "\\$^Bp = {^BT_W}\\cdot{^Wp} \\$\n",
    "\n",
    "The only problem is that the matrix dimensions are not correct for matrix multiplication. Therefore we have convert \\$^Wp\\$ to its homogenous form \\$^W\\tilde{p}\\$, notice that we use \\$\\sim\\$ denote this.\n",
    "\n",
    "\\$^Wp = \\begin{bmatrix} 3 \\\\ 2 \\end{bmatrix} \\rightarrow {^W\\tilde{p}} =  \\begin{bmatrix} 3 \\\\ 2 \\\\ 1 \\end{bmatrix}\\$\n"
   ]
  },
  {
   "cell_type": "code",
   "execution_count": 31,
   "metadata": {},
   "outputs": [
    {
     "data": {
      "text/plain": [
       "array([6.50311815, 1.85332481])"
      ]
     },
     "execution_count": 31,
     "metadata": {},
     "output_type": "execute_result"
    }
   ],
   "source": [
    "Wp_h = e2h(Wp) # converts from 2D vector to 2D vector in homogeneous form by adding 1\n",
    "\n",
    "Bp_h = BtW.dot(Wp_h) # Determines the 2D vector Bp in its homogeneous form\n",
    "Bp = h2e(Bp_h) # converts to 2D vector, i.e removing the last row.\n",
    "Bp"
   ]
  }
 ],
 "metadata": {
  "kernelspec": {
   "display_name": "Python 3",
   "language": "python",
   "name": "python3"
  },
  "language_info": {
   "codemirror_mode": {
    "name": "ipython",
    "version": 3
   },
   "file_extension": ".py",
   "mimetype": "text/x-python",
   "name": "python",
   "nbconvert_exporter": "python",
   "pygments_lexer": "ipython3",
   "version": "3.8.5"
  }
 },
 "nbformat": 4,
 "nbformat_minor": 4
}
